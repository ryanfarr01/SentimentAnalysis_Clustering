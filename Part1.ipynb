{
 "cells": [
  {
   "cell_type": "code",
   "execution_count": 34,
   "metadata": {},
   "outputs": [],
   "source": [
    "import numpy as np\n",
    "from matplotlib import pylab as plt\n",
    "\n",
    "def get_data(filename):\n",
    "    data_train = []\n",
    "    data_test = []\n",
    "    labels_train = []\n",
    "    labels_test = []\n",
    "    num_p_labels = 0\n",
    "    num_n_labels = 0\n",
    "    for line in open(filename):\n",
    "        l = line[-2]\n",
    "        d = process_line(line[:len(line)-3])\n",
    "        is_positive = l == '1'\n",
    "        if is_positive:\n",
    "            num_p_labels += 1\n",
    "            if num_p_labels <= 400:\n",
    "                data_train.append(d)\n",
    "                labels_train.append(l)\n",
    "            else:\n",
    "                data_test.append(d)\n",
    "                labels_test.append(l)\n",
    "        else:\n",
    "            num_n_labels += 1\n",
    "            if num_n_labels <= 400:\n",
    "                data_train.append(d)\n",
    "                labels_train.append(l)\n",
    "            else:\n",
    "                data_test.append(d)\n",
    "                labels_test.append(l)\n",
    "\n",
    "    print('Positive labels: {0}'.format(num_p_labels))\n",
    "    print('Negative laabels: {0}'.format(num_n_labels))\n",
    "    return np.array(data_train), np.array(labels_train),\\\n",
    "           np.array(data_test), np.array(labels_test)\n",
    "\n",
    "def process_line(line):\n",
    "    l = line.lower()\n",
    "    # remove everything that isn't a letter or number\n",
    "    # run autocorrect\n",
    "    # strip stop words\n",
    "    # Lemmatization\n",
    "    return l"
   ]
  },
  {
   "cell_type": "code",
   "execution_count": 35,
   "metadata": {},
   "outputs": [
    {
     "name": "stdout",
     "output_type": "stream",
     "text": [
      "Loading data...\n",
      "Positive labels: 500\n",
      "Negative laabels: 500\n",
      "Positive labels: 500\n",
      "Negative laabels: 500\n",
      "Positive labels: 500\n",
      "Negative laabels: 500\n",
      "\n",
      "Training data: 2400\n",
      "Testing data: 600\n"
     ]
    }
   ],
   "source": [
    "print('Loading data...')\n",
    "am_trd, am_trl, am_ted, am_tld = get_data('./sentiment labelled sentences/amazon_cells_labelled.txt')\n",
    "im_trd, im_trl, im_ted, im_tld = get_data('./sentiment labelled sentences/imdb_labelled.txt')\n",
    "ye_trd, ye_trl, ye_ted, ye_tld = get_data('./sentiment labelled sentences/yelp_labelled.txt')\n",
    "\n",
    "print('')\n",
    "print('Training data: {0}'.format(len(am_trd) + len(im_trd) + len(ye_trd)))\n",
    "print('Testing data: {0}'.format(len(am_ted) + len(im_ted) + len(ye_ted)))"
   ]
  },
  {
   "cell_type": "code",
   "execution_count": 36,
   "metadata": {},
   "outputs": [],
   "source": [
    "features = {}\n",
    "def gather_features(d1, d2, d3):\n",
    "    for ds in (d1, d2, d3):\n",
    "        for d in ds:\n",
    "            sl = d.split(' ')\n",
    "            for word in sl:\n",
    "                if word not in features:\n",
    "                    features[word] = len(features)\n",
    "                \n",
    "gather_features(am_trd, im_trd, ye_trd)"
   ]
  },
  {
   "cell_type": "code",
   "execution_count": null,
   "metadata": {},
   "outputs": [],
   "source": [
    "def convert_bag_of_words(data):\n",
    "    ret = []\n",
    "    for d in data:\n",
    "        bow = np.zeros(len(features))\n",
    "        line = d.split(' ')\n",
    "        for word in line:\n",
    "            if word in features:\n",
    "                bow[features[word]] += 1\n",
    "        ret.append(bow)\n",
    "    return np.array(ret)\n",
    "\n",
    "amc_trd = convert_bag_of_words(am_trd)\n",
    "amc_ted = convert_bag_of_words(am_ted)\n",
    "imc_trd = convert_bag_of_words(im_trd)\n",
    "imc_ted = convert_bag_of_words(im_ted)\n",
    "yec_trd = convert_bag_of_words(ye_trd)\n",
    "yec_ted = convert_bag_of_words(ye_ted)"
   ]
  },
  {
   "cell_type": "code",
   "execution_count": 39,
   "metadata": {},
   "outputs": [
    {
     "name": "stdout",
     "output_type": "stream",
     "text": [
      "4.0\n"
     ]
    }
   ],
   "source": [
    "def postprocess(data):\n",
    "    pass"
   ]
  }
 ],
 "metadata": {
  "kernelspec": {
   "display_name": "Python 3",
   "language": "python",
   "name": "python3"
  },
  "language_info": {
   "codemirror_mode": {
    "name": "ipython",
    "version": 3
   },
   "file_extension": ".py",
   "mimetype": "text/x-python",
   "name": "python",
   "nbconvert_exporter": "python",
   "pygments_lexer": "ipython3",
   "version": "3.7.0"
  }
 },
 "nbformat": 4,
 "nbformat_minor": 2
}
