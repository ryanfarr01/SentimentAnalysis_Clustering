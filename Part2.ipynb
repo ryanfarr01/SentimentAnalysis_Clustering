{
 "cells": [
  {
   "cell_type": "code",
   "execution_count": 11,
   "metadata": {},
   "outputs": [],
   "source": [
    "import re\n",
    "import nltk\n",
    "import numpy as np\n",
    "from matplotlib import pylab as plt\n",
    "\n",
    "s_doc_word = np.load(\"p2_data/science2k-doc-word.npy\")\n",
    "s_word_doc = np.load(\"p2_data/science2k-word-doc.npy\")\n",
    "s_titles = None\n",
    "s_vocab = None\n",
    "\n",
    "with open('p2_data/science2k-titles.txt') as f:\n",
    "    s_titles = f.readlines()\n",
    "with open('p2_data/science2k-vocab.txt') as f:\n",
    "    s_vocab = f.readlines()\n",
    "\n",
    "s_titles = np.array(s_titles)\n",
    "s_vocab = np.array(s_vocab)"
   ]
  },
  {
   "cell_type": "code",
   "execution_count": 9,
   "metadata": {},
   "outputs": [
    {
     "name": "stdout",
     "output_type": "stream",
     "text": [
      "(1373L, 5476L)\n",
      "(5476L, 1373L)\n"
     ]
    }
   ],
   "source": []
  }
 ],
 "metadata": {
  "kernelspec": {
   "display_name": "Python 2",
   "language": "python",
   "name": "python2"
  },
  "language_info": {
   "codemirror_mode": {
    "name": "ipython",
    "version": 2
   },
   "file_extension": ".py",
   "mimetype": "text/x-python",
   "name": "python",
   "nbconvert_exporter": "python",
   "pygments_lexer": "ipython2",
   "version": "2.7.14"
  }
 },
 "nbformat": 4,
 "nbformat_minor": 2
}
