{
 "cells": [
  {
   "cell_type": "code",
   "execution_count": 294,
   "metadata": {},
   "outputs": [
    {
     "data": {
      "text/plain": [
       "Text(0,0.5,'Waiting Time')"
      ]
     },
     "execution_count": 294,
     "metadata": {},
     "output_type": "execute_result"
    },
    {
     "data": {
      "image/png": "[encoded data removed]",
      "text/plain": [
       "<Figure size 432x288 with 1 Axes>"
      ]
     },
     "metadata": {
      "needs_background": "light"
     },
     "output_type": "display_data"
    }
   ],
   "source": [
    "\"\"\"\n",
    "Part 3.B\n",
    "\"\"\"\n",
    "import re\n",
    "import numpy as np\n",
    "import matplotlib.pyplot as plt\n",
    "\n",
    "def load_data(filename):\n",
    "    dat = []\n",
    "    with open(filename) as file:\n",
    "        rows = file.readlines()\n",
    "        for row in rows:\n",
    "            row = row.replace('\\n', '')\n",
    "            row = re.sub('\\s+', ' ', row)\n",
    "            row = row.split(' ')\n",
    "            dat.append((float(row[1]), float(row[2])))\n",
    "\n",
    "    dat = np.array(dat)\n",
    "    return dat\n",
    "    \n",
    "data = load_data('p3_data/old_faithful.txt')\n",
    "\n",
    "plt.clf()\n",
    "xs = [x for x,_ in data]\n",
    "ys = [y for _,y in data]\n",
    "plt.scatter(xs, ys)\n",
    "plt.xlabel('Eruption Time')\n",
    "plt.ylabel('Waiting Time')"
   ]
  },
  {
   "cell_type": "code",
   "execution_count": 295,
   "metadata": {},
   "outputs": [],
   "source": [
    "\"\"\"\n",
    "Part 3.C\n",
    "\"\"\"\n",
    "import random\n",
    "from scipy.stats import norm\n",
    "\n",
    "def gaussian_prob(point, mu, sig):\n",
    "    p = norm.pdf(point[0], mu[0], sig[0][0])\n",
    "    p *= norm.pdf(point[1], mu[1], sig[1][1])\n",
    "    return p\n",
    "\n",
    "def assign_points(data, mu1, mu2, s1, s2):\n",
    "    ret = []\n",
    "    for d in data:\n",
    "        p1 = gaussian_prob(d, mu1, s1)\n",
    "        p2 = gaussian_prob(d, mu2, s2)\n",
    "        ret.append(0 if p1 > p2 else 1)\n",
    "    \n",
    "    return ret\n",
    "\n",
    "def create_guesses(data):\n",
    "    mu1 = data[random.randint(0, len(data)-1)]\n",
    "    mu2 = data[random.randint(0, len(data)-1)]\n",
    "    s1 = np.array([[random.random(), 0],\n",
    "                   [0, random.random()]])\n",
    "    s2 = np.array([[random.random(),0],\n",
    "                   [0,random.random()]])\n",
    "    guesses = assign_points(data, mu1, mu2, s1, s2)\n",
    "    count = len([i for i in guesses if i == 0])\n",
    "    pi = float(count) / data.shape[0]\n",
    "    \n",
    "    return mu1, mu2, s1, s2, pi\n",
    "\n",
    "def e_step(data, mu1, mu2, s1, s2, pi):\n",
    "    ys = []\n",
    "    for d in data:\n",
    "        pr1 = gaussian_prob(d, mu1, s2)\n",
    "        pr2 = gaussian_prob(d, mu2, s2)\n",
    "        numer = pi * pr2\n",
    "        denom = (1-pi)*pr1 + pi*pr2\n",
    "        if denom == 0: denom = 0.00001\n",
    "        ys.append(numer/denom)\n",
    "    return np.array(ys)\n",
    "\n",
    "def m_step(data, mu1, mu2, ys):\n",
    "    mu1_num = 0\n",
    "    mu1_denom = 0\n",
    "    mu2_num = 0\n",
    "    mu2_denom = 0\n",
    "    s1_num = 0\n",
    "    s1_denom = 0\n",
    "    s2_num = 0\n",
    "    s2_denom = 0\n",
    "    pi = 0\n",
    "    for i in range(len(ys)):\n",
    "        mu1_num += ((1-ys[i])*data[i])\n",
    "        mu1_denom += (1-ys[i])\n",
    "        \n",
    "        mu2_num += (ys[i]*data[i])\n",
    "        mu2_denom += (ys[i])\n",
    "        \n",
    "        v1 = (data[i] - mu1).reshape((2,1))\n",
    "        s1_num += ((1.0-ys[i])*(v1.dot(v1.T)))\n",
    "        s1_denom += (1.0-ys[i])\n",
    "        \n",
    "        v2 = (data[i]-mu2).reshape((2,1))\n",
    "        s2_num += (ys[i]*(v2.dot(v2.T)))\n",
    "        s2_denom += ys[i]\n",
    "        \n",
    "        pi += (ys[i]/float(len(ys)))\n",
    "        \n",
    "    if mu1_denom == 0: mu1_denom = 0.00001\n",
    "    if mu2_denom == 0: mu2_denom = 0.00001\n",
    "    if s1_denom == 0: s1_denom = 0.00001\n",
    "    if s2_denom == 0: s2_denom = 0.00001\n",
    "\n",
    "        \n",
    "    mu1 = mu1_num / mu1_denom\n",
    "    mu2 = mu2_num / mu2_denom\n",
    "    s1 = s1_num / s1_denom\n",
    "    s2 = s2_num / s2_denom\n",
    "    \n",
    "    return np.array(mu1), np.array(mu2), np.array(s1), np.array(s2), pi\n",
    "\n",
    "def plot_trajectories(data, mu1s, mu2s):\n",
    "    plt.clf()\n",
    "    fig = plt.figure()\n",
    "    ax1 = fig.add_subplot(111)\n",
    "    \n",
    "    xs = [x for x,_ in data]\n",
    "    ys = [y for _,y in data]\n",
    "    mu1xs = [x for x,_ in mu1s]\n",
    "    mu1ys = [y for _,y in mu1s]\n",
    "    mu2xs = [x for x,_ in mu2s]\n",
    "    mu2ys = [y for _,y in mu2s]\n",
    "    ax1.scatter(xs, ys, c='blue', label='data')\n",
    "    ax1.scatter(mu1xs, mu1ys, c='r', label='Mean 1')\n",
    "    ax1.scatter(mu2xs, mu2ys, c='g', label='Mean 2')\n",
    "    plt.legend(loc='upper left')\n",
    "    plt.show()\n",
    "    \n",
    "    plt.clf()\n",
    "    iterations = [i for i in range(len(mu1s))]\n",
    "    fig = plt.figure()\n",
    "    ax1 = fig.add_subplot(111)\n",
    "    ax1.plot(iterations, mu1xs, label='Mean 1 X')\n",
    "    ax1.plot(iterations, mu1ys, label='Mean 1 Y')\n",
    "    ax1.plot(iterations, mu2xs, label='Mean 2 X')\n",
    "    ax1.plot(iterations, mu2ys, label='Mean 2 Y')\n",
    "    plt.legend(loc='upper left')\n",
    "    plt.show()\n",
    "    "
   ]
  },
  {
   "cell_type": "code",
   "execution_count": 296,
   "metadata": {},
   "outputs": [],
   "source": [
    "def generate_GMM(plot):\n",
    "    mu1, mu2, s1, s2, pi = create_guesses(data)\n",
    "    epsilon = 0.005\n",
    "\n",
    "    difs = 100\n",
    "    iteration = 0\n",
    "    mu1s = [mu1]\n",
    "    mu2s = [mu2]\n",
    "    while difs > epsilon:\n",
    "        ys = e_step(data, mu1, mu2, s1, s2, pi)\n",
    "        params = m_step(data, mu1, mu2, ys)\n",
    "        difs = 0\n",
    "        for p in ((mu1, params[0]), (mu2, params[1]), (s1, params[2]), (s2, params[3]), (pi, params[4])):\n",
    "            difs += np.linalg.norm(p[0]-p[1])\n",
    "        mu1, mu2, s1, s2, pi = params\n",
    "        mu1s.append(mu1)\n",
    "        mu2s.append(mu2)\n",
    "        iteration += 1\n",
    "\n",
    "    if plot: plot_trajectories(data, mu1s, mu2s)\n",
    "    return iteration"
   ]
  },
  {
   "cell_type": "code",
   "execution_count": 297,
   "metadata": {},
   "outputs": [
    {
     "data": {
      "text/plain": [
       "<Figure size 432x288 with 0 Axes>"
      ]
     },
     "metadata": {},
     "output_type": "display_data"
    },
    {
     "data": {
      "image/png": "[encoded data removed]",
      "text/plain": [
       "<Figure size 432x288 with 1 Axes>"
      ]
     },
     "metadata": {
      "needs_background": "light"
     },
     "output_type": "display_data"
    },
    {
     "data": {
      "text/plain": [
       "<Figure size 432x288 with 0 Axes>"
      ]
     },
     "metadata": {},
     "output_type": "display_data"
    },
    {
     "data": {
      "image/png": "[encoded data removed]",
      "text/plain": [
       "<Figure size 432x288 with 1 Axes>"
      ]
     },
     "metadata": {
      "needs_background": "light"
     },
     "output_type": "display_data"
    },
    {
     "data": {
      "text/plain": [
       "28"
      ]
     },
     "execution_count": 297,
     "metadata": {},
     "output_type": "execute_result"
    }
   ],
   "source": [
    "generate_GMM(True)"
   ]
  },
  {
   "cell_type": "code",
   "execution_count": null,
   "metadata": {},
   "outputs": [],
   "source": [
    "iterations = []\n",
    "for i in range(50):\n",
    "    iterations.append(generate_GMM(False))\n",
    "\n",
    "print(iterations)"
   ]
  }
 ],
 "metadata": {
  "kernelspec": {
   "display_name": "Python 3",
   "language": "python",
   "name": "python3"
  },
  "language_info": {
   "codemirror_mode": {
    "name": "ipython",
    "version": 3
   },
   "file_extension": ".py",
   "mimetype": "text/x-python",
   "name": "python",
   "nbconvert_exporter": "python",
   "pygments_lexer": "ipython3",
   "version": "3.7.0"
  }
 },
 "nbformat": 4,
 "nbformat_minor": 2
}
