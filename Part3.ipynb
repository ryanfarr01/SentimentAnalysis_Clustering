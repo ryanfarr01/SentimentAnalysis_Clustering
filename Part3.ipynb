{
 "cells": [
  {
   "cell_type": "code",
   "execution_count": 363,
   "metadata": {},
   "outputs": [
    {
     "data": {
      "text/plain": [
       "Text(0,0.5,'Waiting Time')"
      ]
     },
     "execution_count": 363,
     "metadata": {},
     "output_type": "execute_result"
    },
    {
     "data": {
      "image/png": "[encoded data removed]",
      "text/plain": [
       "<Figure size 432x288 with 1 Axes>"
      ]
     },
     "metadata": {
      "needs_background": "light"
     },
     "output_type": "display_data"
    }
   ],
   "source": [
    "\"\"\"\n",
    "Part 3.B\n",
    "\"\"\"\n",
    "import re\n",
    "import numpy as np\n",
    "import matplotlib.pyplot as plt\n",
    "\n",
    "np.seterr(divide='ignore')\n",
    "\n",
    "def load_data(filename):\n",
    "    dat = []\n",
    "    with open(filename) as file:\n",
    "        rows = file.readlines()\n",
    "        for row in rows:\n",
    "            row = row.replace('\\n', '')\n",
    "            row = re.sub('\\s+', ' ', row)\n",
    "            row = row.split(' ')\n",
    "            dat.append((float(row[1]), float(row[2])))\n",
    "\n",
    "    dat = np.array(dat)\n",
    "    return dat\n",
    "    \n",
    "data = load_data('p3_data/old_faithful.txt')\n",
    "\n",
    "plt.clf()\n",
    "xs = [x for x,_ in data]\n",
    "ys = [y for _,y in data]\n",
    "plt.scatter(xs, ys)\n",
    "plt.xlabel('Eruption Time')\n",
    "plt.ylabel('Waiting Time')"
   ]
  },
  {
   "cell_type": "code",
   "execution_count": 364,
   "metadata": {},
   "outputs": [],
   "source": [
    "\"\"\"\n",
    "Part 3.C\n",
    "\"\"\"\n",
    "import random\n",
    "from scipy.stats import norm\n",
    "\n",
    "def gaussian_prob(point, mu, sig):\n",
    "    p = norm.pdf(point[0], mu[0], sig[0][0])\n",
    "    p *= norm.pdf(point[1], mu[1], sig[1][1])\n",
    "    return p\n",
    "\n",
    "def assign_points(data, mu1, mu2, s1, s2):\n",
    "    ret = []\n",
    "    for d in data:\n",
    "        p1 = gaussian_prob(d, mu1, s1)\n",
    "        p2 = gaussian_prob(d, mu2, s2)\n",
    "        ret.append(0 if p1 > p2 else 1)\n",
    "    \n",
    "    return ret\n",
    "\n",
    "def create_guesses(data):\n",
    "    mu1 = data[random.randint(0, len(data)-1)]\n",
    "    mu2 = data[random.randint(0, len(data)-1)]\n",
    "    s1 = np.array([[random.random()+1, 0],\n",
    "                   [0, random.random()+1]])\n",
    "    s2 = np.array([[random.random()+1,0],\n",
    "                   [0,random.random()+1]])\n",
    "    guesses = assign_points(data, mu1, mu2, s1, s2)\n",
    "    count = len([i for i in guesses if i == 0])\n",
    "    pi = float(count) / data.shape[0]\n",
    "    \n",
    "    return mu1, mu2, s1, s2, pi\n",
    "\n",
    "from sklearn.cluster import KMeans\n",
    "def k_means_guesses(data):\n",
    "    km = KMeans(n_clusters=2).fit(data)\n",
    "    labels = km.labels_\n",
    "    \n",
    "    # separate the data\n",
    "    data0 = []\n",
    "    data1 = []\n",
    "    for i in range(len(labels)):\n",
    "        if labels[i] == 0:\n",
    "            data0.append(data[i])\n",
    "        else:\n",
    "            data1.append(data[i])\n",
    "    data0 = np.array(data0)\n",
    "    data1 = np.array(data1)\n",
    "    \n",
    "    # get mean\n",
    "    mu1 = np.mean(data0, axis=0)\n",
    "    mu2 = np.mean(data1, axis=0)\n",
    "    \n",
    "    # get variance\n",
    "    s1 = np.diag(np.var(data0, axis=0))\n",
    "    s2 = np.diag(np.var(data1, axis=0))\n",
    "    \n",
    "    # calculate pi\n",
    "    pi = len(data0) / len(labels)\n",
    "    \n",
    "    return mu1, mu2, s1, s2, pi\n",
    "\n",
    "def e_step(data, mu1, mu2, s1, s2, pi):\n",
    "    ys = []\n",
    "    for d in data:\n",
    "        pr1 = gaussian_prob(d, mu1, s2)\n",
    "        pr2 = gaussian_prob(d, mu2, s2)\n",
    "        numer = pi * pr2\n",
    "        denom = (1-pi)*pr1 + pi*pr2\n",
    "        if denom == 0: denom = 0.00001\n",
    "        ys.append(numer/denom)\n",
    "    return np.array(ys)\n",
    "\n",
    "def m_step(data, mu1, mu2, ys):\n",
    "    mu1_num = 0\n",
    "    mu1_denom = 0\n",
    "    mu2_num = 0\n",
    "    mu2_denom = 0\n",
    "    s1_num = 0\n",
    "    s1_denom = 0\n",
    "    s2_num = 0\n",
    "    s2_denom = 0\n",
    "    pi = 0\n",
    "    for i in range(len(ys)):\n",
    "        mu1_num += ((1-ys[i])*data[i])\n",
    "        mu1_denom += (1-ys[i])\n",
    "        \n",
    "        mu2_num += (ys[i]*data[i])\n",
    "        mu2_denom += (ys[i])\n",
    "        \n",
    "        v1 = (data[i] - mu1).reshape((2,1))\n",
    "        s1_num += ((1.0-ys[i])*(v1.dot(v1.T)))\n",
    "        s1_denom += (1.0-ys[i])\n",
    "        \n",
    "        v2 = (data[i]-mu2).reshape((2,1))\n",
    "        s2_num += (ys[i]*(v2.dot(v2.T)))\n",
    "        s2_denom += ys[i]\n",
    "        \n",
    "        pi += (ys[i]/float(len(ys)))\n",
    "        \n",
    "    if mu1_denom == 0: mu1_denom = 0.00001\n",
    "    if mu2_denom == 0: mu2_denom = 0.00001\n",
    "    if s1_denom == 0: s1_denom = 0.00001\n",
    "    if s2_denom == 0: s2_denom = 0.00001\n",
    "\n",
    "        \n",
    "    mu1 = mu1_num / mu1_denom\n",
    "    mu2 = mu2_num / mu2_denom\n",
    "    s1 = s1_num / s1_denom\n",
    "    s2 = s2_num / s2_denom\n",
    "    \n",
    "    return np.array(mu1), np.array(mu2), np.array(s1), np.array(s2), pi\n",
    "\n",
    "def plot_trajectories(data, mu1s, mu2s):\n",
    "    plt.clf()\n",
    "    fig = plt.figure()\n",
    "    ax1 = fig.add_subplot(111)\n",
    "    \n",
    "    xs = [x for x,_ in data]\n",
    "    ys = [y for _,y in data]\n",
    "    mu1xs = [x for x,_ in mu1s]\n",
    "    mu1ys = [y for _,y in mu1s]\n",
    "    mu2xs = [x for x,_ in mu2s]\n",
    "    mu2ys = [y for _,y in mu2s]\n",
    "    ax1.scatter(xs, ys, c='blue', label='data')\n",
    "    ax1.scatter(mu1xs, mu1ys, c='r', label='Mean 1')\n",
    "    ax1.scatter(mu2xs, mu2ys, c='g', label='Mean 2')\n",
    "    plt.legend(loc='upper left')\n",
    "    plt.show()\n",
    "    \n",
    "    plt.clf()\n",
    "    iterations = [i for i in range(len(mu1s))]\n",
    "    fig = plt.figure()\n",
    "    ax1 = fig.add_subplot(111)\n",
    "    ax1.plot(iterations, mu1xs, label='Mean 1 X')\n",
    "    ax1.plot(iterations, mu1ys, label='Mean 1 Y')\n",
    "    ax1.plot(iterations, mu2xs, label='Mean 2 X')\n",
    "    ax1.plot(iterations, mu2ys, label='Mean 2 Y')\n",
    "    plt.legend(loc='upper left')\n",
    "    plt.show()\n",
    "    "
   ]
  },
  {
   "cell_type": "code",
   "execution_count": 365,
   "metadata": {},
   "outputs": [],
   "source": [
    "def generate_GMM(plot, random_guesses=True):\n",
    "    mu1, mu2, s1, s2, pi = create_guesses(data) if random_guesses else k_means_guesses(data)\n",
    "    epsilon = 0.001\n",
    "\n",
    "    difs = 100\n",
    "    iteration = 0\n",
    "    mu1s = [mu1]\n",
    "    mu2s = [mu2]\n",
    "    while difs > epsilon:\n",
    "        ys = e_step(data, mu1, mu2, s1, s2, pi)\n",
    "        params = m_step(data, mu1, mu2, ys)\n",
    "        difs = 0\n",
    "        for p in ((mu1, params[0]), (mu2, params[1]), (s1, params[2]), (s2, params[3]), (pi, params[4])):\n",
    "            difs += np.linalg.norm(p[0]-p[1])\n",
    "        mu1, mu2, s1, s2, pi = params\n",
    "        mu1s.append(mu1)\n",
    "        mu2s.append(mu2)\n",
    "        iteration += 1\n",
    "\n",
    "    if plot: plot_trajectories(data, mu1s, mu2s)\n",
    "    return iteration"
   ]
  },
  {
   "cell_type": "code",
   "execution_count": 366,
   "metadata": {},
   "outputs": [
    {
     "data": {
      "text/plain": [
       "<Figure size 432x288 with 0 Axes>"
      ]
     },
     "metadata": {},
     "output_type": "display_data"
    },
    {
     "data": {
      "image/png": "[encoded data removed]",
      "text/plain": [
       "<Figure size 432x288 with 1 Axes>"
      ]
     },
     "metadata": {
      "needs_background": "light"
     },
     "output_type": "display_data"
    },
    {
     "data": {
      "text/plain": [
       "<Figure size 432x288 with 0 Axes>"
      ]
     },
     "metadata": {},
     "output_type": "display_data"
    },
    {
     "data": {
      "image/png": "[encoded data removed]",
      "text/plain": [
       "<Figure size 432x288 with 1 Axes>"
      ]
     },
     "metadata": {
      "needs_background": "light"
     },
     "output_type": "display_data"
    },
    {
     "data": {
      "text/plain": [
       "5"
      ]
     },
     "execution_count": 366,
     "metadata": {},
     "output_type": "execute_result"
    }
   ],
   "source": [
    "generate_GMM(True)"
   ]
  },
  {
   "cell_type": "code",
   "execution_count": 367,
   "metadata": {},
   "outputs": [],
   "source": [
    "iterations = []\n",
    "for i in range(50):\n",
    "    iterations.append(generate_GMM(False))"
   ]
  },
  {
   "cell_type": "code",
   "execution_count": 368,
   "metadata": {},
   "outputs": [
    {
     "data": {
      "text/plain": [
       "(array([23.,  7.,  2.,  1.,  0.,  0.,  0.,  0.,  0.,  0.,  0.,  0.,  0.,\n",
       "         0.,  0.,  0.,  0.,  0.,  0.,  0.,  0.,  0.,  1.,  3.,  3.,  1.,\n",
       "         1.,  3.,  1.,  4.]),\n",
       " array([ 4.        ,  5.13333333,  6.26666667,  7.4       ,  8.53333333,\n",
       "         9.66666667, 10.8       , 11.93333333, 13.06666667, 14.2       ,\n",
       "        15.33333333, 16.46666667, 17.6       , 18.73333333, 19.86666667,\n",
       "        21.        , 22.13333333, 23.26666667, 24.4       , 25.53333333,\n",
       "        26.66666667, 27.8       , 28.93333333, 30.06666667, 31.2       ,\n",
       "        32.33333333, 33.46666667, 34.6       , 35.73333333, 36.86666667,\n",
       "        38.        ]),\n",
       " <a list of 30 Patch objects>)"
      ]
     },
     "execution_count": 368,
     "metadata": {},
     "output_type": "execute_result"
    },
    {
     "data": {
      "image/png": "[encoded data removed]",
      "text/plain": [
       "<Figure size 432x288 with 1 Axes>"
      ]
     },
     "metadata": {
      "needs_background": "light"
     },
     "output_type": "display_data"
    }
   ],
   "source": [
    "plt.clf()\n",
    "plt.hist(iterations, 30)"
   ]
  },
  {
   "cell_type": "code",
   "execution_count": 369,
   "metadata": {},
   "outputs": [
    {
     "data": {
      "text/plain": [
       "<Figure size 432x288 with 0 Axes>"
      ]
     },
     "metadata": {},
     "output_type": "display_data"
    },
    {
     "data": {
      "image/png": "[encoded data removed]",
      "text/plain": [
       "<Figure size 432x288 with 1 Axes>"
      ]
     },
     "metadata": {
      "needs_background": "light"
     },
     "output_type": "display_data"
    },
    {
     "data": {
      "text/plain": [
       "<Figure size 432x288 with 0 Axes>"
      ]
     },
     "metadata": {},
     "output_type": "display_data"
    },
    {
     "data": {
      "image/png": "[encoded data removed]",
      "text/plain": [
       "<Figure size 432x288 with 1 Axes>"
      ]
     },
     "metadata": {
      "needs_background": "light"
     },
     "output_type": "display_data"
    },
    {
     "data": {
      "text/plain": [
       "3"
      ]
     },
     "execution_count": 369,
     "metadata": {},
     "output_type": "execute_result"
    }
   ],
   "source": [
    "\"\"\"\n",
    "Part 3.D\n",
    "\"\"\"\n",
    "generate_GMM(True, False)"
   ]
  },
  {
   "cell_type": "code",
   "execution_count": 370,
   "metadata": {},
   "outputs": [],
   "source": [
    "iterations = []\n",
    "for i in range(50):\n",
    "    iterations.append(generate_GMM(False, False))"
   ]
  },
  {
   "cell_type": "code",
   "execution_count": 371,
   "metadata": {},
   "outputs": [
    {
     "data": {
      "text/plain": [
       "(array([ 0.,  0.,  0.,  0.,  0.,  0.,  0.,  0.,  0.,  0.,  0.,  0.,  0.,\n",
       "         0.,  0., 50.,  0.,  0.,  0.,  0.,  0.,  0.,  0.,  0.,  0.,  0.,\n",
       "         0.,  0.,  0.,  0.]),\n",
       " array([2.5       , 2.53333333, 2.56666667, 2.6       , 2.63333333,\n",
       "        2.66666667, 2.7       , 2.73333333, 2.76666667, 2.8       ,\n",
       "        2.83333333, 2.86666667, 2.9       , 2.93333333, 2.96666667,\n",
       "        3.        , 3.03333333, 3.06666667, 3.1       , 3.13333333,\n",
       "        3.16666667, 3.2       , 3.23333333, 3.26666667, 3.3       ,\n",
       "        3.33333333, 3.36666667, 3.4       , 3.43333333, 3.46666667,\n",
       "        3.5       ]),\n",
       " <a list of 30 Patch objects>)"
      ]
     },
     "execution_count": 371,
     "metadata": {},
     "output_type": "execute_result"
    },
    {
     "data": {
      "image/png": "[encoded data removed]",
      "text/plain": [
       "<Figure size 432x288 with 1 Axes>"
      ]
     },
     "metadata": {
      "needs_background": "light"
     },
     "output_type": "display_data"
    }
   ],
   "source": [
    "plt.clf()\n",
    "plt.hist(iterations, 30)"
   ]
  }
 ],
 "metadata": {
  "kernelspec": {
   "display_name": "Python 3",
   "language": "python",
   "name": "python3"
  },
  "language_info": {
   "codemirror_mode": {
    "name": "ipython",
    "version": 3
   },
   "file_extension": ".py",
   "mimetype": "text/x-python",
   "name": "python",
   "nbconvert_exporter": "python",
   "pygments_lexer": "ipython3",
   "version": "3.7.0"
  }
 },
 "nbformat": 4,
 "nbformat_minor": 2
}
